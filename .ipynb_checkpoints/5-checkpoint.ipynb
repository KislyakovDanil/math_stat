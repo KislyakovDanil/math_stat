{
 "cells": [
  {
   "cell_type": "markdown",
   "metadata": {},
   "source": [
    "# Домашнее задание №5. Линейная регрессия\n",
    "## Кисляков Данил 797"
   ]
  },
  {
   "cell_type": "code",
   "execution_count": 1,
   "metadata": {},
   "outputs": [],
   "source": [
    "# Импортируем нужные библиотеки\n",
    "import numpy as np\n",
    "import matplotlib.pyplot as plt\n",
    "import pandas as pd\n",
    "import warnings\n",
    "from sklearn.feature_extraction import DictVectorizer as DV\n",
    "from sklearn.model_selection import train_test_split\n",
    "from scipy.optimize import minimize_scalar\n",
    "%matplotlib inline\n",
    "\n",
    "warnings.filterwarnings(\"ignore\")"
   ]
  },
  {
   "cell_type": "code",
   "execution_count": 12,
   "metadata": {},
   "outputs": [],
   "source": [
    "def fit_linear_model(Z, X):\n",
    "    return np.linalg.inv(Z.T @ Z) @ Z.T @ X"
   ]
  },
  {
   "cell_type": "markdown",
   "metadata": {},
   "source": [
    "### Задача 1\n",
    "Загрузите данные из набора Forest Fires (файл forestfires.csv) о лесных пожарах в Португалии. Задача состоит в том, чтобы с помощью линейной регрессии научиться предсказывать координату area (площадь пожара) в виде линейной комбинации других данных.\n",
    "\n",
    "Чтобы работать с числовыми координатами, нечисловые координаты (month, day) нужно перевести в числовые. Для простоты можно заменить координату month на индикатор летнего сезона, а координату day не использовать вообще. По желанию можно сделать преобразование другим способом. Также добавьте координату, тождественно равную единице (вес при этой координате  интерпретируется как сдвиг).\n",
    "\n",
    "Разбейте выборку на две части в соотношении 7:3 (перемешав её с помощью random.shuffle). По первой части постройте регрессионную модель. Примените модель ко второй части выборки и посчитайте по ней среднеквадратичную ошибку.\n",
    "\n",
    "Для переменной area выполните преобразование $f(x) = ln(x+c)$ и постройте для нее новую регрессионную модель. Посчитайте среднеквадратичную ошибку для преобразованных значений. При каком $c$ предсказания получаются лучше всего? \n",
    "\n",
    "При выбранном $c$ сделайте разбиение выборки в соотношении 7:3 разными способами (перемешивая каждый раз). Найдите способ оценить разброс качества от разбиения. Сильно ли меняется качество? Сделайте выводы."
   ]
  },
  {
   "cell_type": "markdown",
   "metadata": {},
   "source": [
    "Загрузим данные из набора, исключим столбец  ```day```, так как кажется, что площадь пожара не зависит от дня недели и выделим предсказываемую переменную ```area``` в отдельный вектор. Заменим в матрице независимых переменных значения в столбце ```month``` на $1$, если это летний месяц и на $0$ в противном случае."
   ]
  },
  {
   "cell_type": "code",
   "execution_count": 2,
   "metadata": {},
   "outputs": [],
   "source": [
    "df = pd.read_csv(\"forestfires.csv\")\n",
    "\n",
    "Z = df[['X' , 'Y', 'month', 'FFMC', 'DMC', 'DC',\n",
    "       'ISI', 'temp', 'RH', 'wind', 'rain']]\n",
    "X = df[['area']].to_numpy() # Переменная-отклик\n",
    "Z = Z.replace(['jun', 'jul', 'aug'], 1)\n",
    "Z = Z.replace(['jan', 'feb', 'mar', 'apr', 'may',\n",
    "              'sep', 'oct', 'nov', 'dec'], 0).to_numpy()\n",
    "Z = np.hstack([Z, np.ones((Z.shape[0], 1))])"
   ]
  },
  {
   "cell_type": "markdown",
   "metadata": {},
   "source": [
    "Составим новую матрицу Z, объединив преобразованный столбец категоримальной переменной, числовые переменные и добавим столбец из единиц, как сказано в условии. С помощью функции ```traint_test_split``` разобьём выборку в соотношении 7:3 на две части."
   ]
  },
  {
   "cell_type": "code",
   "execution_count": 3,
   "metadata": {},
   "outputs": [],
   "source": [
    "Z_1, Z_2, X_1, X_2 = train_test_split(Z, X, test_size = 0.3, \n",
    "                                      train_size = 0.7, shuffle = True)"
   ]
  },
  {
   "cell_type": "markdown",
   "metadata": {},
   "source": [
    "Построим регрессионную модель по первой части выборки: определим значение вектора параметров $\\theta$ по формуле для оценки наименьших квадратов, и применим построенную модель ко второй части. Оценивать качество будем с помощью среднеквадратичной ошибки."
   ]
  },
  {
   "cell_type": "code",
   "execution_count": 4,
   "metadata": {},
   "outputs": [
    {
     "name": "stdout",
     "output_type": "stream",
     "text": [
      "Среднеквадратичная ошибка на второй части выборки составляет: 3646.006806264768\n"
     ]
    }
   ],
   "source": [
    "theta = fit_linear_regression(Z_1, X_1)\n",
    "X_predicted = Z_2 @ theta\n",
    "MSE = np.linalg.norm(X_predicted - X_2)**2 / X_predicted.shape[0]\n",
    "print(\"Среднеквадратичная ошибка на второй части выборки составляет:\", MSE)"
   ]
  },
  {
   "cell_type": "markdown",
   "metadata": {},
   "source": [
    "Сделаем преобразование предсказываемой переменной по условию. Определим функцию, которая будет зависеть от $c$ и для заранее заданных матрицы признаков и вектора ответов строить регрессионную модель и вычислять значение среднеквадратичной ошибки. Воспользуемся функцией ```minimize_scalar``` из ```scipy.optimization``` чтобы найти минимум этой функции."
   ]
  },
  {
   "cell_type": "code",
   "execution_count": 5,
   "metadata": {},
   "outputs": [],
   "source": [
    "def min_mse_trampline(Z, X):\n",
    "    def test_mse(c):\n",
    "        X_c = np.log(X + c)\n",
    "        theta = np.linalg.inv(Z.T @ Z) @ Z.T @ X_c\n",
    "        X_predicted = Z @ theta\n",
    "        MSE = np.linalg.norm(X_predicted - X_c)**2 / X_predicted.shape[0]\n",
    "        return MSE\n",
    "    return test_mse"
   ]
  },
  {
   "cell_type": "code",
   "execution_count": 6,
   "metadata": {},
   "outputs": [
    {
     "name": "stdout",
     "output_type": "stream",
     "text": [
      "Оптимальное значение параметра c равно 36232017396085.96\n",
      "При нём среднеквадратичная ошибка равна 1.9839894367849018e-23\n"
     ]
    }
   ],
   "source": [
    "test_mse = min_mse_trampline(Z, X)\n",
    "min_res = minimize_scalar(test_mse, bounds=(1, np.inf))\n",
    "optimal_c = min_res.x\n",
    "min_mse = min_res.fun\n",
    "print(\"Оптимальное значение параметра c равно\", optimal_c)\n",
    "print(\"При нём среднеквадратичная ошибка равна\", min_mse)"
   ]
  },
  {
   "cell_type": "markdown",
   "metadata": {},
   "source": [
    "Заметим, что значение параметра $c$ получилось очень большим. Это логично, так как при таких значениях, значение зависимой переменной $x$ пренебрежимо мало и\n",
    "$$\n",
    "    \\ln(x + c) \\approx ln(c)\n",
    "$$\n",
    "Так как в нашей матрице признаков есть столбец целиком состоящий из единиц, то минимальная среднеквадратичная ошибка будет равна $0$ и достигаться при векторе параметров, состоящим из нулей, кроме последнего элемента, где последний элемент равен $\\ln(c).$ Тогда повторим поиск минимального параметра $c$ для матрицы признаков без столбца из единиц."
   ]
  },
  {
   "cell_type": "code",
   "execution_count": 7,
   "metadata": {},
   "outputs": [
    {
     "name": "stdout",
     "output_type": "stream",
     "text": [
      "Оптимальное значение параметра c равно 227.95221633163763\n",
      "При нём среднеквадратичная ошибка равна 0.0741638058804667\n"
     ]
    }
   ],
   "source": [
    "test_mse = min_mse_trampline(Z[:,:-1], X)\n",
    "min_res = minimize_scalar(test_mse, bounds=(1, np.inf))\n",
    "optimal_c = min_res.x\n",
    "min_mse = min_res.fun\n",
    "print(\"Оптимальное значение параметра c равно\", optimal_c)\n",
    "print(\"При нём среднеквадратичная ошибка равна\", min_mse)"
   ]
  },
  {
   "cell_type": "markdown",
   "metadata": {},
   "source": [
    "Построим график ошибки, чтобы визуально убедиться, что функция ```test_mse``` действительно имеет минимум."
   ]
  },
  {
   "cell_type": "code",
   "execution_count": 8,
   "metadata": {},
   "outputs": [
    {
     "data": {
      "image/png": "[encoded data removed]",
      "text/plain": [
       "<Figure size 720x360 with 1 Axes>"
      ]
     },
     "metadata": {
      "needs_background": "light"
     },
     "output_type": "display_data"
    }
   ],
   "source": [
    "c = np.linspace(1, 1000, 1000)\n",
    "\n",
    "plt.figure(figsize=(10, 5))\n",
    "plt.plot(c, [test_mse(i) for i in c])\n",
    "plt.title(\"Зависимость среднеквадратичной ошибки от параметра $c$\")\n",
    "plt.xlabel(\"Значение параметра $c$\")\n",
    "plt.ylabel(\"Среднеквадратичной ошибки\")\n",
    "plt.ylim(0, 0.25)\n",
    "plt.grid()"
   ]
  },
  {
   "cell_type": "markdown",
   "metadata": {},
   "source": [
    "Далее в условии предлагается оценить разброс среднеквадратичной ошибки в зависимости от разбиения выборки. Сделаем это следующим образом: для $1000$ различных разбиений выборки найдём значение среднеквадратичной ошибки на тестовой части и найдём выборочную дисперсию получившейся выборки ошибок."
   ]
  },
  {
   "cell_type": "code",
   "execution_count": 9,
   "metadata": {},
   "outputs": [],
   "source": [
    "# Удалим из матрицы единичный столбец, чтобы не делать\n",
    "# это каждый раз при построении модели в дальнейшем.\n",
    "# Также сделаем преобразование для вектора ответов\n",
    "Z = Z[:,:-1]\n",
    "X = np.log(X + optimal_c)"
   ]
  },
  {
   "cell_type": "code",
   "execution_count": 10,
   "metadata": {},
   "outputs": [
    {
     "name": "stdout",
     "output_type": "stream",
     "text": [
      "Выборочная дисперсия ошибки равна 0.0015867031043767465\n",
      "В среднем ошибка равна 0.0970729050090569\n"
     ]
    }
   ],
   "source": [
    "N = 1000\n",
    "seeds = np.random.random_integers(100*N, size=N)\n",
    "errors = []\n",
    "for seed in seeds:\n",
    "    Z_train, Z_test, X_train, X_test = train_test_split(Z, X, test_size = 0.3, \n",
    "                                      train_size = 0.7, shuffle = True, random_state = seed)\n",
    "    theta = np.linalg.inv(Z_train.T @ Z_train) @ Z_train.T @ X_train\n",
    "    X_pred = Z_test @ theta\n",
    "    errors.append(np.linalg.norm(X_test - X_pred)**2 / X_pred.shape[0])\n",
    "errors = np.array(errors)\n",
    "print(\"Выборочная дисперсия ошибки равна\", errors.var())\n",
    "print(\"В среднем ошибка равна\", errors.mean())"
   ]
  },
  {
   "cell_type": "markdown",
   "metadata": {},
   "source": [
    "Построим гистограмму полученной выборки ошибок."
   ]
  },
  {
   "cell_type": "code",
   "execution_count": 11,
   "metadata": {},
   "outputs": [
    {
     "data": {
      "text/plain": [
       "Text(0.5, 1.0, 'Распределение ошибки')"
      ]
     },
     "execution_count": 11,
     "metadata": {},
     "output_type": "execute_result"
    },
    {
     "data": {
      "image/png": "[encoded data removed]",
      "text/plain": [
       "<Figure size 720x360 with 1 Axes>"
      ]
     },
     "metadata": {
      "needs_background": "light"
     },
     "output_type": "display_data"
    }
   ],
   "source": [
    "plt.figure(figsize=(10, 5))\n",
    "plt.hist(errors, bins = 25)\n",
    "plt.xlabel(\"Среднеквадратичная ошибка\")\n",
    "plt.ylabel(\"Частота\")\n",
    "plt.title(\"Распределение ошибки\")"
   ]
  },
  {
   "cell_type": "markdown",
   "metadata": {},
   "source": [
    "Как мы видим, подавляющее значений ошибки сконцентрирована возле среднего с весьма большим разбросом."
   ]
  },
  {
   "cell_type": "markdown",
   "metadata": {},
   "source": [
    "#### Вывод:\n",
    "По заданному набору данных построена модель линейной регрессии. Однако среднеквадратичная ошибка получилась слишком большой (порядка значений целевой переменной), поэтому было сделано преобразование целевой переменной, и в новой модели линейной зависимостью оценивалась уже функция $\\ln(x + c),$ где $c$ был подобран так, чтобы минимизировать ошибку на одном конкретном разбиении. Вообще говоря, следовало искать оптимальное значение параметра по нескольким разным разбиениям, или с помощью кросс-валидации. Получившаяся в итоге среднеквадратичная ошибка (с учётом преобразования) гораздо меньше полученной простой линейной моделью. Разброс этой ошибки, оцененный выборочным средним также получился достаточно малым (по сравнению, например, со значением самой ошибки), что говорит о том, что качество несильно меняется в зависимости от перемешивания выборки (среднеквадратичная ошибка всегда примерно равна $0.1$)."
   ]
  },
  {
   "cell_type": "code",
   "execution_count": null,
   "metadata": {},
   "outputs": [],
   "source": []
  }
 ],
 "metadata": {
  "kernelspec": {
   "display_name": "Python 3",
   "language": "python",
   "name": "python3"
  },
  "language_info": {
   "codemirror_mode": {
    "name": "ipython",
    "version": 3
   },
   "file_extension": ".py",
   "mimetype": "text/x-python",
   "name": "python",
   "nbconvert_exporter": "python",
   "pygments_lexer": "ipython3",
   "version": "3.8.3"
  }
 },
 "nbformat": 4,
 "nbformat_minor": 2
}
